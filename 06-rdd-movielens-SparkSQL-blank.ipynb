{
 "cells": [
  {
   "cell_type": "code",
   "execution_count": 1,
   "metadata": {},
   "outputs": [
    {
     "data": {
      "text/html": [
       "\n",
       "        <div>\n",
       "            <p><b>SparkContext</b></p>\n",
       "\n",
       "            <p><a href=\"http://172.31.71.25:4043\">Spark UI</a></p>\n",
       "\n",
       "            <dl>\n",
       "              <dt>Version</dt>\n",
       "                <dd><code>v2.4.0</code></dd>\n",
       "              <dt>Master</dt>\n",
       "                <dd><code>local[*]</code></dd>\n",
       "              <dt>AppName</dt>\n",
       "                <dd><code>PySparkShell</code></dd>\n",
       "            </dl>\n",
       "        </div>\n",
       "        "
      ],
      "text/plain": [
       "<SparkContext master=local[*] appName=PySparkShell>"
      ]
     },
     "execution_count": 1,
     "metadata": {},
     "output_type": "execute_result"
    }
   ],
   "source": [
    "sc"
   ]
  },
  {
   "cell_type": "code",
   "execution_count": 2,
   "metadata": {},
   "outputs": [],
   "source": [
    "from pyspark.sql.types import StructType, StructField, IntegerType, StringType, FloatType, LongType, Row\n",
    "from pyspark.sql.functions import split, explode, col, countDistinct, count, udf, regexp_extract, to_date, from_unixtime\n",
    "from pyspark.sql.functions import mean as _mean\n",
    "import pandas as pd\n",
    "import seaborn as sns\n",
    "import matplotlib\n",
    "import matplotlib.pyplot as plt\n",
    "import matplotlib.ticker as ticker\n",
    "%matplotlib inline\n",
    "matplotlib.rcParams['figure.figsize'] = (20,8)\n",
    "#plt.figure(figsize=(20,15))"
   ]
  },
  {
   "cell_type": "code",
   "execution_count": 3,
   "metadata": {},
   "outputs": [],
   "source": [
    "MOVIES_CSV_FILE = \"ml-20m/movies.csv\""
   ]
  },
  {
   "cell_type": "code",
   "execution_count": 14,
   "metadata": {},
   "outputs": [],
   "source": [
    "movies_df = spark.read.load(MOVIES_CSV_FILE, format=\"csv\", sep=\",\", mode=\"FAILFAST\", inferSchema=\"true\", header=\"true\")"
   ]
  },
  {
   "cell_type": "code",
   "execution_count": 15,
   "metadata": {},
   "outputs": [
    {
     "data": {
      "text/plain": [
       "DataFrame[movieId: int, title: string, genres: string]"
      ]
     },
     "execution_count": 15,
     "metadata": {},
     "output_type": "execute_result"
    }
   ],
   "source": [
    "movies_df"
   ]
  },
  {
   "cell_type": "code",
   "execution_count": 16,
   "metadata": {},
   "outputs": [
    {
     "data": {
      "text/plain": [
       "27278"
      ]
     },
     "execution_count": 16,
     "metadata": {},
     "output_type": "execute_result"
    }
   ],
   "source": [
    "movies_df.count()"
   ]
  },
  {
   "cell_type": "code",
   "execution_count": 17,
   "metadata": {},
   "outputs": [
    {
     "data": {
      "text/plain": [
       "[Row(movieId=1, title='Toy Story (1995)', genres='Adventure|Animation|Children|Comedy|Fantasy'),\n",
       " Row(movieId=2, title='Jumanji (1995)', genres='Adventure|Children|Fantasy'),\n",
       " Row(movieId=3, title='Grumpier Old Men (1995)', genres='Comedy|Romance'),\n",
       " Row(movieId=4, title='Waiting to Exhale (1995)', genres='Comedy|Drama|Romance'),\n",
       " Row(movieId=5, title='Father of the Bride Part II (1995)', genres='Comedy'),\n",
       " Row(movieId=6, title='Heat (1995)', genres='Action|Crime|Thriller'),\n",
       " Row(movieId=7, title='Sabrina (1995)', genres='Comedy|Romance'),\n",
       " Row(movieId=8, title='Tom and Huck (1995)', genres='Adventure|Children'),\n",
       " Row(movieId=9, title='Sudden Death (1995)', genres='Action'),\n",
       " Row(movieId=10, title='GoldenEye (1995)', genres='Action|Adventure|Thriller')]"
      ]
     },
     "execution_count": 17,
     "metadata": {},
     "output_type": "execute_result"
    }
   ],
   "source": [
    "movies_df.take(10)"
   ]
  },
  {
   "cell_type": "code",
   "execution_count": 18,
   "metadata": {},
   "outputs": [
    {
     "name": "stdout",
     "output_type": "stream",
     "text": [
      "+-------+--------------------+--------------------+\n",
      "|movieId|               title|              genres|\n",
      "+-------+--------------------+--------------------+\n",
      "|      1|    Toy Story (1995)|Adventure|Animati...|\n",
      "|      2|      Jumanji (1995)|Adventure|Childre...|\n",
      "|      3|Grumpier Old Men ...|      Comedy|Romance|\n",
      "|      4|Waiting to Exhale...|Comedy|Drama|Romance|\n",
      "|      5|Father of the Bri...|              Comedy|\n",
      "|      6|         Heat (1995)|Action|Crime|Thri...|\n",
      "|      7|      Sabrina (1995)|      Comedy|Romance|\n",
      "|      8| Tom and Huck (1995)|  Adventure|Children|\n",
      "|      9| Sudden Death (1995)|              Action|\n",
      "|     10|    GoldenEye (1995)|Action|Adventure|...|\n",
      "|     11|American Presiden...|Comedy|Drama|Romance|\n",
      "|     12|Dracula: Dead and...|       Comedy|Horror|\n",
      "|     13|        Balto (1995)|Adventure|Animati...|\n",
      "|     14|        Nixon (1995)|               Drama|\n",
      "|     15|Cutthroat Island ...|Action|Adventure|...|\n",
      "|     16|       Casino (1995)|         Crime|Drama|\n",
      "|     17|Sense and Sensibi...|       Drama|Romance|\n",
      "|     18|   Four Rooms (1995)|              Comedy|\n",
      "|     19|Ace Ventura: When...|              Comedy|\n",
      "|     20|  Money Train (1995)|Action|Comedy|Cri...|\n",
      "+-------+--------------------+--------------------+\n",
      "only showing top 20 rows\n",
      "\n"
     ]
    }
   ],
   "source": [
    "movies_df.show()"
   ]
  },
  {
   "cell_type": "code",
   "execution_count": 19,
   "metadata": {},
   "outputs": [
    {
     "data": {
      "text/plain": [
       "Row(movieId=1, title='Toy Story (1995)', genres='Adventure|Animation|Children|Comedy|Fantasy')"
      ]
     },
     "execution_count": 19,
     "metadata": {},
     "output_type": "execute_result"
    }
   ],
   "source": [
    "movies_df.first()"
   ]
  },
  {
   "cell_type": "code",
   "execution_count": 20,
   "metadata": {},
   "outputs": [
    {
     "data": {
      "text/plain": [
       "[Row(movieId=88, title='Black Sheep (1996)', genres='Comedy'),\n",
       " Row(movieId=100, title='City Hall (1996)', genres='Drama|Thriller'),\n",
       " Row(movieId=420, title='Beverly Hills Cop III (1994)', genres='Action|Comedy|Crime|Thriller'),\n",
       " Row(movieId=2394, title='Prince of Egypt, The (1998)', genres='Animation|Musical'),\n",
       " Row(movieId=3278, title='Gendernauts (1999)', genres='Documentary'),\n",
       " Row(movieId=4548, title='Sunset (1988)', genres='Action|Comedy|Thriller|Western'),\n",
       " Row(movieId=4952, title='Morons From Outer Space (1985)', genres='Comedy|Sci-Fi'),\n",
       " Row(movieId=5898, title='Sword and the Sorcerer, The (1982)', genres='Action|Adventure|Fantasy'),\n",
       " Row(movieId=7183, title=\"There's a Girl in My Soup (1970)\", genres='Comedy'),\n",
       " Row(movieId=7725, title='On Deadly Ground (1994)', genres='Action|Adventure|Thriller'),\n",
       " Row(movieId=31330, title='Strawberries in the Supermarket (Jagoda u supermarketu) (2003) ', genres='Action|Adventure|Comedy'),\n",
       " Row(movieId=31894, title='ChubbChubbs!, The (2002)', genres='Animation|Comedy|Sci-Fi'),\n",
       " Row(movieId=56607, title='Kite Runner, The (2007)', genres='Drama'),\n",
       " Row(movieId=58061, title='Four Sons (1928)', genres='Drama'),\n",
       " Row(movieId=60885, title='Zone, The (La Zona) (2007)', genres='Drama|Thriller'),\n",
       " Row(movieId=77201, title='Valhalla Rising (2009)', genres='Action|Drama|War'),\n",
       " Row(movieId=91799, title='Skyscraper Souls (1932)', genres='Drama|Romance'),\n",
       " Row(movieId=101713, title='On the Road to Emmaus (Emmauksen tiellä) (2001)', genres='Comedy|Drama|Musical'),\n",
       " Row(movieId=101715, title='Loaded (2008)', genres='Action|Crime|Drama|Thriller'),\n",
       " Row(movieId=105314, title='Once Upon a Warrior (Anaganaga O Dheerudu) (2011)', genres='Action|Adventure|Fantasy|Musical|Romance'),\n",
       " Row(movieId=115364, title='Jungle Creature: Hugo, The (Jungledyret) (Go Hugo Go) (1993)', genres='Animation|Children|Musical|Romance'),\n",
       " Row(movieId=117061, title='The Green (2011)', genres='Drama'),\n",
       " Row(movieId=119316, title='Professor Beware (1938)', genres='Comedy')]"
      ]
     },
     "execution_count": 20,
     "metadata": {},
     "output_type": "execute_result"
    }
   ],
   "source": [
    "movies_df.sample(withReplacement=False,fraction=0.001,seed=0xcafebabe).collect()"
   ]
  },
  {
   "cell_type": "code",
   "execution_count": 21,
   "metadata": {},
   "outputs": [],
   "source": [
    "movies_genres_df = movies_df.select(col(\"movieId\"), explode(split(col('genres'),'\\|')).alias(\"genre\"))"
   ]
  },
  {
   "cell_type": "code",
   "execution_count": 22,
   "metadata": {},
   "outputs": [
    {
     "name": "stdout",
     "output_type": "stream",
     "text": [
      "+-------+---------+\n",
      "|movieId|    genre|\n",
      "+-------+---------+\n",
      "|      1|Adventure|\n",
      "|      1|Animation|\n",
      "|      1| Children|\n",
      "|      1|   Comedy|\n",
      "|      1|  Fantasy|\n",
      "|      2|Adventure|\n",
      "|      2| Children|\n",
      "|      2|  Fantasy|\n",
      "|      3|   Comedy|\n",
      "|      3|  Romance|\n",
      "|      4|   Comedy|\n",
      "|      4|    Drama|\n",
      "|      4|  Romance|\n",
      "|      5|   Comedy|\n",
      "|      6|   Action|\n",
      "|      6|    Crime|\n",
      "|      6| Thriller|\n",
      "|      7|   Comedy|\n",
      "|      7|  Romance|\n",
      "|      8|Adventure|\n",
      "+-------+---------+\n",
      "only showing top 20 rows\n",
      "\n"
     ]
    }
   ],
   "source": [
    "movies_genres_df.show()"
   ]
  },
  {
   "cell_type": "code",
   "execution_count": 23,
   "metadata": {},
   "outputs": [
    {
     "name": "stdout",
     "output_type": "stream",
     "text": [
      "+-----------+------+\n",
      "|      genre|number|\n",
      "+-----------+------+\n",
      "|      Crime|  2939|\n",
      "|    Romance|  4127|\n",
      "|   Thriller|  4178|\n",
      "|  Adventure|  2329|\n",
      "|      Drama| 13344|\n",
      "|        War|  1194|\n",
      "|Documentary|  2471|\n",
      "|    Fantasy|  1412|\n",
      "|    Mystery|  1514|\n",
      "|    Musical|  1036|\n",
      "|  Animation|  1027|\n",
      "|  Film-Noir|   330|\n",
      "|       IMAX|   196|\n",
      "|     Horror|  2611|\n",
      "|    Western|   676|\n",
      "|     Comedy|  8374|\n",
      "|   Children|  1139|\n",
      "|     Action|  3520|\n",
      "|     Sci-Fi|  1743|\n",
      "+-----------+------+\n",
      "\n"
     ]
    }
   ],
   "source": [
    "movies_genres_df.groupBy(\"genre\").agg(count(\"genre\").alias('number')).where(\"genre != '(no genres listed)'\").show()"
   ]
  },
  {
   "cell_type": "code",
   "execution_count": 26,
   "metadata": {},
   "outputs": [],
   "source": [
    "def extract_year(x):\n",
    "    if x[-5:-1].isdigit():\n",
    "        return int(x[-5:-1])\n",
    "    else:\n",
    "        return None\n",
    "\n",
    "\n",
    "udf_extract_year = udf(extract_year, IntegerType())"
   ]
  },
  {
   "cell_type": "code",
   "execution_count": 27,
   "metadata": {},
   "outputs": [
    {
     "name": "stdout",
     "output_type": "stream",
     "text": [
      "+-------+--------------------+--------------------+----+\n",
      "|movieId|               title|              genres|year|\n",
      "+-------+--------------------+--------------------+----+\n",
      "|      1|    Toy Story (1995)|Adventure|Animati...|1995|\n",
      "|      2|      Jumanji (1995)|Adventure|Childre...|1995|\n",
      "|      3|Grumpier Old Men ...|      Comedy|Romance|1995|\n",
      "|      4|Waiting to Exhale...|Comedy|Drama|Romance|1995|\n",
      "|      5|Father of the Bri...|              Comedy|1995|\n",
      "|      6|         Heat (1995)|Action|Crime|Thri...|1995|\n",
      "|      7|      Sabrina (1995)|      Comedy|Romance|1995|\n",
      "|      8| Tom and Huck (1995)|  Adventure|Children|1995|\n",
      "|      9| Sudden Death (1995)|              Action|1995|\n",
      "|     10|    GoldenEye (1995)|Action|Adventure|...|1995|\n",
      "|     11|American Presiden...|Comedy|Drama|Romance|1995|\n",
      "|     12|Dracula: Dead and...|       Comedy|Horror|1995|\n",
      "|     13|        Balto (1995)|Adventure|Animati...|1995|\n",
      "|     14|        Nixon (1995)|               Drama|1995|\n",
      "|     15|Cutthroat Island ...|Action|Adventure|...|1995|\n",
      "|     16|       Casino (1995)|         Crime|Drama|1995|\n",
      "|     17|Sense and Sensibi...|       Drama|Romance|1995|\n",
      "|     18|   Four Rooms (1995)|              Comedy|1995|\n",
      "|     19|Ace Ventura: When...|              Comedy|1995|\n",
      "|     20|  Money Train (1995)|Action|Comedy|Cri...|1995|\n",
      "+-------+--------------------+--------------------+----+\n",
      "only showing top 20 rows\n",
      "\n",
      "CPU times: user 6.64 ms, sys: 11.1 ms, total: 17.8 ms\n",
      "Wall time: 892 ms\n"
     ]
    }
   ],
   "source": [
    "%time movies_df.withColumn(\"year\",udf_extract_year(col('title'))).show()"
   ]
  },
  {
   "cell_type": "code",
   "execution_count": 28,
   "metadata": {},
   "outputs": [],
   "source": [
    "_ = movies_df.withColumn(\"year\",regexp_extract(col('title'), '\\((\\d{4})\\)',1)).filter(\"year != ''\").groupby('year').count().sort(col(\"year\").asc()).toPandas()"
   ]
  },
  {
   "cell_type": "code",
   "execution_count": 29,
   "metadata": {},
   "outputs": [
    {
     "data": {
      "image/png": "[encoded data removed]",
      "text/plain": [
       "<Figure size 1440x720 with 1 Axes>"
      ]
     },
     "metadata": {},
     "output_type": "display_data"
    }
   ],
   "source": [
    "plt.figure(figsize=(20,10))\n",
    "ax = sns.barplot(x=\"year\", y=\"count\", data=_)\n",
    "ax.set_xticklabels(ax.get_xticklabels(), rotation=40, ha=\"right\", fontsize=8)\n",
    "plt.show()"
   ]
  },
  {
   "cell_type": "code",
   "execution_count": 31,
   "metadata": {},
   "outputs": [],
   "source": [
    "RATINGS_CSV_FILE = \"ml-20m/ratings.csv\""
   ]
  },
  {
   "cell_type": "code",
   "execution_count": 32,
   "metadata": {},
   "outputs": [],
   "source": [
    "ratings_schema = StructType([\n",
    "    StructField(\"userId\", IntegerType()),\n",
    "    StructField(\"movieId\", IntegerType()),\n",
    "    StructField(\"rating\", FloatType()),\n",
    "    StructField(\"timestamp\", LongType())    \n",
    "])"
   ]
  },
  {
   "cell_type": "code",
   "execution_count": 33,
   "metadata": {},
   "outputs": [],
   "source": [
    "ratings_df = spark.read.csv(RATINGS_CSV_FILE, header=True, mode=\"FAILFAST\", schema=ratings_schema)"
   ]
  },
  {
   "cell_type": "code",
   "execution_count": 34,
   "metadata": {},
   "outputs": [
    {
     "name": "stdout",
     "output_type": "stream",
     "text": [
      "root\n",
      " |-- userId: integer (nullable = true)\n",
      " |-- movieId: integer (nullable = true)\n",
      " |-- rating: float (nullable = true)\n",
      " |-- timestamp: long (nullable = true)\n",
      "\n"
     ]
    }
   ],
   "source": [
    "ratings_df.printSchema()"
   ]
  },
  {
   "cell_type": "code",
   "execution_count": 35,
   "metadata": {},
   "outputs": [
    {
     "name": "stdout",
     "output_type": "stream",
     "text": [
      "+------+-------+------+----------+\n",
      "|userId|movieId|rating| timestamp|\n",
      "+------+-------+------+----------+\n",
      "|     1|      2|   3.5|1112486027|\n",
      "|     1|     29|   3.5|1112484676|\n",
      "|     1|     32|   3.5|1112484819|\n",
      "|     1|     47|   3.5|1112484727|\n",
      "|     1|     50|   3.5|1112484580|\n",
      "|     1|    112|   3.5|1094785740|\n",
      "|     1|    151|   4.0|1094785734|\n",
      "|     1|    223|   4.0|1112485573|\n",
      "|     1|    253|   4.0|1112484940|\n",
      "|     1|    260|   4.0|1112484826|\n",
      "|     1|    293|   4.0|1112484703|\n",
      "|     1|    296|   4.0|1112484767|\n",
      "|     1|    318|   4.0|1112484798|\n",
      "|     1|    337|   3.5|1094785709|\n",
      "|     1|    367|   3.5|1112485980|\n",
      "|     1|    541|   4.0|1112484603|\n",
      "|     1|    589|   3.5|1112485557|\n",
      "|     1|    593|   3.5|1112484661|\n",
      "|     1|    653|   3.0|1094785691|\n",
      "|     1|    919|   3.5|1094785621|\n",
      "+------+-------+------+----------+\n",
      "only showing top 20 rows\n",
      "\n"
     ]
    }
   ],
   "source": [
    "ratings_df.show()"
   ]
  },
  {
   "cell_type": "code",
   "execution_count": 36,
   "metadata": {},
   "outputs": [],
   "source": [
    "ratings_df = ratings_df.withColumn(\"time\", to_date(from_unixtime(col(\"timestamp\")))).drop(col('timestamp'))"
   ]
  },
  {
   "cell_type": "code",
   "execution_count": 37,
   "metadata": {},
   "outputs": [
    {
     "data": {
      "text/plain": [
       "Row(userId=1, movieId=2, rating=3.5, time=datetime.date(2005, 4, 3))"
      ]
     },
     "execution_count": 37,
     "metadata": {},
     "output_type": "execute_result"
    }
   ],
   "source": [
    "ratings_df.first()"
   ]
  },
  {
   "cell_type": "code",
   "execution_count": 38,
   "metadata": {},
   "outputs": [
    {
     "data": {
      "text/plain": [
       "[Row(mean_rating=3.5255285642993797)]"
      ]
     },
     "execution_count": 38,
     "metadata": {},
     "output_type": "execute_result"
    }
   ],
   "source": [
    "ratings_df.select(\n",
    "    _mean(col('rating')).alias('mean_rating'),\n",
    ").collect()"
   ]
  },
  {
   "cell_type": "markdown",
   "metadata": {},
   "source": [
    "## Group"
   ]
  },
  {
   "cell_type": "code",
   "execution_count": 39,
   "metadata": {},
   "outputs": [
    {
     "name": "stdout",
     "output_type": "stream",
     "text": [
      "+-------+------------------+\n",
      "|movieId|       avg(rating)|\n",
      "+-------+------------------+\n",
      "|   3997|2.0703468490473864|\n",
      "|   1580|  3.55831928049466|\n",
      "|   3918| 2.918940609951846|\n",
      "|   2366|3.5492681454655197|\n",
      "|   3175| 3.600717102904267|\n",
      "|   4519|3.2463842975206614|\n",
      "|   1591|2.6201712654614653|\n",
      "|    471|3.6641817536386228|\n",
      "|  36525| 3.482891360136869|\n",
      "|  44022| 3.334077079107505|\n",
      "|   2866| 3.605188343994314|\n",
      "|   1645|3.4787484726828417|\n",
      "|   5803| 2.772944550669216|\n",
      "|  54190|3.6701244813278007|\n",
      "|   1088| 3.209207300463089|\n",
      "|    833| 2.725998598458304|\n",
      "|   8638|3.9375181211945494|\n",
      "|    463|               2.8|\n",
      "|   1959| 3.628987240829346|\n",
      "|   2659|3.2326923076923078|\n",
      "+-------+------------------+\n",
      "only showing top 20 rows\n",
      "\n",
      "CPU times: user 4 ms, sys: 531 µs, total: 4.53 ms\n",
      "Wall time: 6.36 s\n"
     ]
    }
   ],
   "source": [
    "%time ratings_df.groupBy('movieId').agg(_mean('rating')).show()"
   ]
  },
  {
   "cell_type": "markdown",
   "metadata": {},
   "source": [
    "## Best 20 movies"
   ]
  },
  {
   "cell_type": "code",
   "execution_count": 40,
   "metadata": {},
   "outputs": [
    {
     "name": "stdout",
     "output_type": "stream",
     "text": [
      "+-------+------------+------------------+--------------------+--------------------+\n",
      "|movieId|count_rating|        avg_rating|               title|              genres|\n",
      "+-------+------------+------------------+--------------------+--------------------+\n",
      "|    318|       63366| 4.446990499637029|Shawshank Redempt...|         Crime|Drama|\n",
      "|    858|       41355| 4.364732196832306|Godfather, The (1...|         Crime|Drama|\n",
      "|     50|       47006| 4.334372207803259|Usual Suspects, T...|Crime|Mystery|Thr...|\n",
      "|    527|       50054| 4.310175010988133|Schindler's List ...|           Drama|War|\n",
      "|   1221|       27398| 4.275640557704942|Godfather: Part I...|         Crime|Drama|\n",
      "|   2019|       11611|   4.2741796572216|Seven Samurai (Sh...|Action|Adventure|...|\n",
      "|    904|       17449| 4.271333600779414|  Rear Window (1954)|    Mystery|Thriller|\n",
      "|   7502|        4305| 4.263182346109176|Band of Brothers ...|    Action|Drama|War|\n",
      "|    912|       24349| 4.258326830670664|   Casablanca (1942)|       Drama|Romance|\n",
      "|    922|        6525| 4.256934865900383|Sunset Blvd. (a.k...|Drama|Film-Noir|R...|\n",
      "|   1193|       29932|  4.24807897901911|One Flew Over the...|               Drama|\n",
      "|    750|       23220| 4.247286821705426|Dr. Strangelove o...|          Comedy|War|\n",
      "|   1212|        6565| 4.246001523229246|Third Man, The (1...|Film-Noir|Mystery...|\n",
      "|   6016|       12937| 4.235410064157069|City of God (Cida...|Action|Adventure|...|\n",
      "|  44555|        5720|4.2347902097902095|Lives of Others, ...|Drama|Romance|Thr...|\n",
      "|    908|       15627| 4.233538107122288|North by Northwes...|Action|Adventure|...|\n",
      "|   1178|        3568|4.2326233183856505|Paths of Glory (1...|           Drama|War|\n",
      "|   2959|       40106| 4.227123123722136|   Fight Club (1999)|Action|Crime|Dram...|\n",
      "|   3435|        4909| 4.224281931146873|Double Indemnity ...|Crime|Drama|Film-...|\n",
      "|   1203|       12934| 4.224137931034483| 12 Angry Men (1957)|               Drama|\n",
      "+-------+------------+------------------+--------------------+--------------------+\n",
      "only showing top 20 rows\n",
      "\n",
      "CPU times: user 11.7 ms, sys: 461 µs, total: 12.2 ms\n",
      "Wall time: 11.2 s\n"
     ]
    }
   ],
   "source": [
    "%time ratings_df.groupby('movieId')\\\n",
    "          .agg(count(\"rating\").alias('count_rating'),_mean(\"rating\").alias('avg_rating'))\\\n",
    "          .join(movies_df,\"movieId\",'inner')\\\n",
    "          .filter(col('count_rating') > 50)\\\n",
    "          .sort(col('avg_rating').desc()).show(20)"
   ]
  },
  {
   "cell_type": "code",
   "execution_count": 41,
   "metadata": {},
   "outputs": [
    {
     "name": "stdout",
     "output_type": "stream",
     "text": [
      "== Physical Plan ==\n",
      "*(4) Sort [avg_rating#315 DESC NULLS LAST], true, 0\n",
      "+- Exchange rangepartitioning(avg_rating#315 DESC NULLS LAST, 200)\n",
      "   +- *(3) Project [movieId#196, count_rating#313L, avg_rating#315, title#89, genres#90]\n",
      "      +- *(3) BroadcastHashJoin [movieId#196], [movieId#88], Inner, BuildRight\n",
      "         :- *(3) Filter (count_rating#313L > 50)\n",
      "         :  +- *(3) HashAggregate(keys=[movieId#196], functions=[count(rating#197), avg(cast(rating#197 as double))])\n",
      "         :     +- Exchange hashpartitioning(movieId#196, 200)\n",
      "         :        +- *(1) HashAggregate(keys=[movieId#196], functions=[partial_count(rating#197), partial_avg(cast(rating#197 as double))])\n",
      "         :           +- *(1) Project [movieId#196, rating#197]\n",
      "         :              +- *(1) Filter isnotnull(movieId#196)\n",
      "         :                 +- *(1) FileScan csv [movieId#196,rating#197] Batched: false, Format: CSV, Location: InMemoryFileIndex[file:/home/cindy/Documents/Scolaire/DAD/spark/ml-20m/ratings.csv], PartitionFilters: [], PushedFilters: [IsNotNull(movieId)], ReadSchema: struct<movieId:int,rating:float>\n",
      "         +- BroadcastExchange HashedRelationBroadcastMode(List(cast(input[0, int, true] as bigint)))\n",
      "            +- *(2) Project [movieId#88, title#89, genres#90]\n",
      "               +- *(2) Filter isnotnull(movieId#88)\n",
      "                  +- *(2) FileScan csv [movieId#88,title#89,genres#90] Batched: false, Format: CSV, Location: InMemoryFileIndex[file:/home/cindy/Documents/Scolaire/DAD/spark/ml-20m/movies.csv], PartitionFilters: [], PushedFilters: [IsNotNull(movieId)], ReadSchema: struct<movieId:int,title:string,genres:string>\n"
     ]
    }
   ],
   "source": [
    "ratings_df.groupby('movieId')\\\n",
    "          .agg(count(\"rating\").alias('count_rating'),_mean(\"rating\").alias('avg_rating'))\\\n",
    "          .join(movies_df,\"movieId\",'inner')\\\n",
    "          .filter(col('count_rating') > 50)\\\n",
    "          .sort(col('avg_rating').desc()).explain()"
   ]
  },
  {
   "cell_type": "code",
   "execution_count": null,
   "metadata": {},
   "outputs": [],
   "source": []
  },
  {
   "cell_type": "code",
   "execution_count": null,
   "metadata": {},
   "outputs": [],
   "source": []
  }
 ],
 "metadata": {
  "kernelspec": {
   "display_name": "Python 3",
   "language": "python",
   "name": "python3"
  },
  "language_info": {
   "codemirror_mode": {
    "name": "ipython",
    "version": 3
   },
   "file_extension": ".py",
   "mimetype": "text/x-python",
   "name": "python",
   "nbconvert_exporter": "python",
   "pygments_lexer": "ipython3",
   "version": "3.6.5"
  }
 },
 "nbformat": 4,
 "nbformat_minor": 2
}
